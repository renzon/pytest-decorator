{
 "cells": [
  {
   "cell_type": "markdown",
   "metadata": {},
   "source": [
    "# Lib Decorator e Pessoas"
   ]
  },
  {
   "cell_type": "code",
   "execution_count": 58,
   "metadata": {},
   "outputs": [
    {
     "name": "stdout",
     "output_type": "stream",
     "text": [
      "The ipython_pytest extension is already loaded. To reload it, use:\n",
      "  %reload_ext ipython_pytest\n"
     ]
    }
   ],
   "source": [
    "%load_ext ipython_pytest"
   ]
  },
  {
   "cell_type": "code",
   "execution_count": 59,
   "metadata": {},
   "outputs": [],
   "source": [
    "def eh_legal(linguagem):\n",
    "    '''Incrivel funcao eh legal'''\n",
    "    return u'{} eh legal'.format(linguagem)"
   ]
  },
  {
   "cell_type": "code",
   "execution_count": 60,
   "metadata": {},
   "outputs": [
    {
     "data": {
      "text/plain": [
       "u'Java eh legal'"
      ]
     },
     "execution_count": 60,
     "metadata": {},
     "output_type": "execute_result"
    }
   ],
   "source": [
    "eh_legal('Java')"
   ]
  },
  {
   "cell_type": "markdown",
   "metadata": {},
   "source": [
    "## Decorator Inocente"
   ]
  },
  {
   "cell_type": "code",
   "execution_count": 61,
   "metadata": {},
   "outputs": [],
   "source": [
    "def concat(msg):\n",
    "    def decorator(func):\n",
    "        def envoltoria(*arg, **kwargs):\n",
    "            return '{}{}'.format(func(*arg, **kwargs), msg)\n",
    "        return envoltoria\n",
    "    return decorator\n"
   ]
  },
  {
   "cell_type": "markdown",
   "metadata": {},
   "source": [
    "### Aplicando decorator sem açúcar sintático"
   ]
  },
  {
   "cell_type": "code",
   "execution_count": 62,
   "metadata": {},
   "outputs": [],
   "source": [
    "eh_legal=concat(', mas nem se compara com Python =P')(eh_legal)"
   ]
  },
  {
   "cell_type": "code",
   "execution_count": 63,
   "metadata": {},
   "outputs": [
    {
     "data": {
      "text/plain": [
       "'Java eh legal, mas nem se compara com Python =P'"
      ]
     },
     "execution_count": 63,
     "metadata": {},
     "output_type": "execute_result"
    }
   ],
   "source": [
    "eh_legal('Java')"
   ]
  },
  {
   "cell_type": "markdown",
   "metadata": {},
   "source": [
    "### Mas e a assinatura?"
   ]
  },
  {
   "cell_type": "code",
   "execution_count": 64,
   "metadata": {},
   "outputs": [
    {
     "name": "stdout",
     "output_type": "stream",
     "text": [
      "Help on function envoltoria in module __main__:\n",
      "\n",
      "envoltoria(*arg, **kwargs)\n",
      "\n"
     ]
    }
   ],
   "source": [
    "help(eh_legal)"
   ]
  },
  {
   "cell_type": "markdown",
   "metadata": {},
   "source": [
    "## Solução na lib padrão"
   ]
  },
  {
   "cell_type": "code",
   "execution_count": 65,
   "metadata": {},
   "outputs": [],
   "source": [
    "from functools import wraps\n"
   ]
  },
  {
   "cell_type": "code",
   "execution_count": 66,
   "metadata": {},
   "outputs": [],
   "source": [
    "def concat2(msg):\n",
    "    def decorator(func):\n",
    "        @wraps(func)\n",
    "        def envoltoria(*arg, **kwargs):\n",
    "            return '{}{}'.format(func(*arg, **kwargs), msg)\n",
    "        return envoltoria\n",
    "    return decorator"
   ]
  },
  {
   "cell_type": "markdown",
   "metadata": {},
   "source": [
    "### Acúcar Sintático"
   ]
  },
  {
   "cell_type": "code",
   "execution_count": 67,
   "metadata": {},
   "outputs": [],
   "source": [
    "@concat2(', mas nem se compara com Python =P')\n",
    "def eh_legal_2(linguagem):\n",
    "    '''Incrivel funcao eh legal'''\n",
    "    return u'{} eh legal'.format(linguagem)"
   ]
  },
  {
   "cell_type": "code",
   "execution_count": 68,
   "metadata": {},
   "outputs": [
    {
     "data": {
      "text/plain": [
       "'Java eh legal, mas nem se compara com Python =P'"
      ]
     },
     "execution_count": 68,
     "metadata": {},
     "output_type": "execute_result"
    }
   ],
   "source": [
    "eh_legal_2('Java')"
   ]
  },
  {
   "cell_type": "code",
   "execution_count": 69,
   "metadata": {},
   "outputs": [
    {
     "name": "stdout",
     "output_type": "stream",
     "text": [
      "Help on function eh_legal_2 in module __main__:\n",
      "\n",
      "eh_legal_2(*arg, **kwargs)\n",
      "    Incrivel funcao eh legal\n",
      "\n"
     ]
    }
   ],
   "source": [
    "help(eh_legal_2)"
   ]
  },
  {
   "cell_type": "markdown",
   "metadata": {},
   "source": [
    "## Lib decorator, argumentos da assinatura original"
   ]
  },
  {
   "cell_type": "code",
   "execution_count": 70,
   "metadata": {},
   "outputs": [],
   "source": [
    "from decorator import getargspec"
   ]
  },
  {
   "cell_type": "code",
   "execution_count": 71,
   "metadata": {},
   "outputs": [
    {
     "data": {
      "text/plain": [
       "ArgSpec(args=[], varargs='arg', varkw='kwargs', defaults=None)"
      ]
     },
     "execution_count": 71,
     "metadata": {},
     "output_type": "execute_result"
    }
   ],
   "source": [
    "getargspec(eh_legal_2)"
   ]
  },
  {
   "cell_type": "markdown",
   "metadata": {},
   "source": [
    "### Plano melhor que Aninhado"
   ]
  },
  {
   "cell_type": "code",
   "execution_count": 72,
   "metadata": {},
   "outputs": [],
   "source": [
    "# Antigo\n",
    "def concat2(msg):\n",
    "    def decorator(func):\n",
    "        @wraps(func)\n",
    "        def envoltoria(*arg, **kwargs):\n",
    "            return '{}{}'.format(func(*arg, **kwargs), msg)\n",
    "        return envoltoria\n",
    "    return decorator"
   ]
  },
  {
   "cell_type": "code",
   "execution_count": 73,
   "metadata": {},
   "outputs": [],
   "source": [
    "from decorator import decorator"
   ]
  },
  {
   "cell_type": "code",
   "execution_count": 74,
   "metadata": {},
   "outputs": [],
   "source": [
    "def concat3(msg):\n",
    "    @decorator\n",
    "    def envoltoria(func, *arg, **kwargs):\n",
    "        return '{}{}'.format(func(*arg, **kwargs), msg)\n",
    "    return envoltoria\n",
    "    "
   ]
  },
  {
   "cell_type": "markdown",
   "metadata": {},
   "source": [
    "### Decorando novamente\n"
   ]
  },
  {
   "cell_type": "code",
   "execution_count": 75,
   "metadata": {},
   "outputs": [],
   "source": [
    "@concat3(', mas nem se compara com Python =P')\n",
    "def eh_legal_3(linguagem):\n",
    "    '''Incrivel funcao eh legal'''\n",
    "    return u'{} eh legal'.format(linguagem)"
   ]
  },
  {
   "cell_type": "code",
   "execution_count": 76,
   "metadata": {},
   "outputs": [
    {
     "data": {
      "text/plain": [
       "'Java eh legal, mas nem se compara com Python =P'"
      ]
     },
     "execution_count": 76,
     "metadata": {},
     "output_type": "execute_result"
    }
   ],
   "source": [
    "eh_legal_3('Java')"
   ]
  },
  {
   "cell_type": "code",
   "execution_count": 77,
   "metadata": {},
   "outputs": [
    {
     "data": {
      "text/plain": [
       "ArgSpec(args=['linguagem'], varargs=None, varkw=None, defaults=None)"
      ]
     },
     "execution_count": 77,
     "metadata": {},
     "output_type": "execute_result"
    }
   ],
   "source": [
    "getargspec(eh_legal_3)"
   ]
  },
  {
   "cell_type": "markdown",
   "metadata": {},
   "source": [
    "## Tudo isso só para ter assinatura bonitinha?"
   ]
  },
  {
   "cell_type": "markdown",
   "metadata": {},
   "source": [
    "Calma Jovem!!!!"
   ]
  },
  {
   "cell_type": "code",
   "execution_count": null,
   "metadata": {},
   "outputs": [],
   "source": [
    "%%pytest\n",
    "\n",
    "import pytest\n",
    "from functools import wraps\n",
    "\n",
    "# Antigo\n",
    "def concat_antigo(msg):\n",
    "    def decorator(func):\n",
    "        @wraps(func)\n",
    "        def envoltoria(*arg, **kwargs):\n",
    "            return '{}{}'.format(func(*arg, **kwargs), msg)\n",
    "        return envoltoria\n",
    "    return decorator\n",
    "\n",
    "@pytest.mark.parametrize('nome', ['Renzo'])\n",
    "@concat_antigo(', mas nem se compara com Python =P')\n",
    "def test_falha_no_python_2(nome):\n",
    "    assert True\n",
    "    "
   ]
  },
  {
   "cell_type": "code",
   "execution_count": null,
   "metadata": {},
   "outputs": [],
   "source": [
    "%%pytest\n",
    "\n",
    "import pytest\n",
    "from decorator import decorator\n",
    "\n",
    "# Novo\n",
    "def concat_novo(msg):\n",
    "    @decorator\n",
    "    def envoltoria(func, *arg, **kwargs):\n",
    "        return '{}{}'.format(func(*arg, **kwargs), msg)\n",
    "    return envoltoria\n",
    "    \n",
    "@pytest.mark.parametrize('nome', ['Renzo'])\n",
    "@concat_novo(', mas nem se compara com Python =P')\n",
    "def test_funfa_no_python_2_e_3(nome):\n",
    "    assert True\n",
    "    "
   ]
  },
  {
   "cell_type": "markdown",
   "metadata": {},
   "source": [
    "## Github: https://github.com/renzon/pytest-decorator"
   ]
  },
  {
   "cell_type": "markdown",
   "metadata": {},
   "source": [
    "# Pessoas > Tecnologia"
   ]
  },
  {
   "cell_type": "markdown",
   "metadata": {},
   "source": [
    "![alt text](ole.jpg \"Olé, o Dinarmarques mais brasileiro que já conheci\")"
   ]
  },
  {
   "cell_type": "markdown",
   "metadata": {},
   "source": [
    "![alt text](CADU.jpg \"Title\")"
   ]
  },
  {
   "cell_type": "code",
   "execution_count": null,
   "metadata": {},
   "outputs": [],
   "source": [
    "%%HTML\n",
    "<iframe src=\"clock_plain.svg\" style=\"border: none\" width=\"100%\" height=\"300px\" />"
   ]
  },
  {
   "cell_type": "markdown",
   "metadata": {},
   "source": [
    "Funciona quando baixei o arquivo, alguém ajuda?"
   ]
  },
  {
   "cell_type": "markdown",
   "metadata": {},
   "source": [
    "# Meu melhor PR!!!!"
   ]
  },
  {
   "cell_type": "code",
   "execution_count": null,
   "metadata": {},
   "outputs": [],
   "source": [
    "%%HTML\n",
    "<video width=\"320\" height=\"240\" controls>\n",
    "  <source src=\"augusto.mp4\" type=\"video/mp4\">\n",
    "</video>\n"
   ]
  },
  {
   "cell_type": "markdown",
   "metadata": {},
   "source": [
    "# Jaba: https://www.python.pro.br"
   ]
  }
 ],
 "metadata": {
  "kernelspec": {
   "display_name": "Python 2",
   "language": "python",
   "name": "python2"
  },
  "language_info": {
   "codemirror_mode": {
    "name": "ipython",
    "version": 2
   },
   "file_extension": ".py",
   "mimetype": "text/x-python",
   "name": "python",
   "nbconvert_exporter": "python",
   "pygments_lexer": "ipython2",
   "version": "2.7.13"
  }
 },
 "nbformat": 4,
 "nbformat_minor": 2
}
